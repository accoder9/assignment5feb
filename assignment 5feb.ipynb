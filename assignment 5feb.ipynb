{
 "cells": [
  {
   "cell_type": "markdown",
   "id": "312d1889-c347-440e-9588-35071717eaa5",
   "metadata": {},
   "source": [
    "Q1. Explain Class and Object with respect to Object-Oriented Programming. Give a suitable example."
   ]
  },
  {
   "cell_type": "markdown",
   "id": "88cd7677-82ad-4414-90a0-d0cdeb063272",
   "metadata": {},
   "source": [
    "A class is a collection of objects. A class contains the blueprints or the prototype from which the objects are being created. It is a logical entity that contains some attributes and methods. \n",
    "\n",
    "ex- class wor:\n",
    "    pass\n",
    "It creates an empty class.\n",
    "\n",
    "The object is an entity that has a state and behavior associated with it. It may be any real-world object like a mouse, keyboard, chair, table, pen, etc. Integers, strings, floating-point numbers, even arrays, and dictionaries, are all objects. More specifically, any single integer or any single string is an object.\n",
    "\n",
    "ex- obj= wor()\n",
    "This will create an object named obj of the class wor defined above"
   ]
  },
  {
   "cell_type": "markdown",
   "id": "fc8131c7-f619-421b-baff-d5a1b338d732",
   "metadata": {},
   "source": [
    "Q2. Name the four pillars of OOPs."
   ]
  },
  {
   "cell_type": "markdown",
   "id": "ea29a791-5912-4079-b140-59fbc96ee208",
   "metadata": {},
   "source": [
    "1. Abstraction - Abstraction is about keeping the process simple by hiding unnecessary details from the user. \n",
    "\n",
    "2. Encapsulation-Encapsulation is the process of making data private by wrapping data and its methods in a 'capsule' or unit, so that it can not be accessed or modified outside of that unit. This is achieved by making variables inside a class private.\n",
    "\n",
    "3. Inheritance -In Python it is possible to create an object that inherits the methods and properties of another object. This is called inheritance\n",
    "\n",
    "4. Polymorphism-Polymorphism simply means 'many forms'. In Python this means that you can have one function or object that can be used in different ways.\n",
    "\n"
   ]
  },
  {
   "cell_type": "markdown",
   "id": "6b797f93-7d00-4e41-8917-742461756edf",
   "metadata": {},
   "source": [
    "Q3. Explain why the __init__() function is used. Give a suitable example."
   ]
  },
  {
   "cell_type": "markdown",
   "id": "6f77d679-29d9-4f28-adae-756d9a149f16",
   "metadata": {},
   "source": [
    "__init__ is a special python method that runs whenever a new object is created. These types of functions are used to initialize the attributes of that class, E.g., if the class is Person, then the attributes will be name, age, etc.\n",
    "Python uses the __init__ method as a constructor to initialize the data members when an object is created for the class.\n",
    "ex- class Trip:\n",
    "    \n",
    "    def __init__(self, to_city, from_city):\n",
    "        self.to_city = to_city\n",
    "        self.from_city = from_city\n",
    "        T=Trip('india','london')\n",
    "__init__ method is initialized with values India and London which are assigned to to_city and from_city respectively.\n"
   ]
  },
  {
   "cell_type": "markdown",
   "id": "6c4a3fbb-737f-46d0-873d-2da787ca6dde",
   "metadata": {},
   "source": [
    "Q4. Why self is used in OOPs?"
   ]
  },
  {
   "cell_type": "markdown",
   "id": "0d1f0241-9428-4adc-af7b-a089fafe49ab",
   "metadata": {},
   "source": [
    "self represents the instance of the class. By using the “self”  we can access the attributes and methods of the class in python. It binds the attributes with the given arguments.The reason you need to use self. is because Python does not use the @ syntax to refer to instance attributes."
   ]
  },
  {
   "cell_type": "markdown",
   "id": "555e3a11-fe3b-4bbd-9f9e-dc868e78d389",
   "metadata": {},
   "source": [
    "Q5. What is inheritance? Give an example for each type of inheritance."
   ]
  },
  {
   "cell_type": "markdown",
   "id": "605e600b-8173-46f8-b909-d813a6e28439",
   "metadata": {},
   "source": [
    "Inheritance is defined as the mechanism of inheriting the properties of the base class to the child class.\n",
    "1.Single Inheritance-Single inheritance enables a derived class to inherit properties from a single parent class, thus enabling code reusability and the addition of new features to existing code.\n",
    "ex-class Apple:\n",
    "    def func1(self):\n",
    "        print(\"This function is in apple class.\")\n",
    "    class iphone(Apple):\n",
    "    def func2(self):\n",
    "        print(\"This function is in iphone class.\")\n",
    "    \n",
    "obj=iphone()\n",
    "obj.func1\n",
    "This function is in apple class.\n",
    "\n",
    "2.Multiple Inheritance-When a class can be derived from more than one base class this type of inheritance is called multiple inheritances. In multiple inheritances, all the features of the base classes are inherited into the derived class\n",
    "\n",
    "ex- \n",
    "class School:\n",
    "    \n",
    "    schoolname = \"\"\n",
    "    def school(self):\n",
    "        print(self.schoolname)\n",
    "    class Roll:\n",
    "    rollname = \"\"\n",
    "    def roll(self):\n",
    "        print(self.rollname)\n",
    "    class Student(School, Roll):\n",
    "    def Deatils(self):\n",
    "        print(\"Roll :\", self.rollname)\n",
    "        print(\"school :\", self.schoolname)\n",
    "     input\n",
    "     s1 = Deatil()\n",
    "    s1.rollname = \"101\"\n",
    "s 1.schoolname = \"ABC\"\n",
    "s1.Student()\n",
    "\n",
    "3.Multilevel Inheritance-In multilevel inheritance, features of the base class and the derived class are further inherited into the new derived class.\n",
    "\n",
    "ex- \n",
    "class Grandfather:\n",
    " \n",
    "    def __init__(self, grandfathername):\n",
    "        self.grandfathername = grandfathername\n",
    "     class Father(Grandfather):\n",
    "    def __init__(self, fathername, grandfathername):\n",
    "        self.fathername = fathername \n",
    "       Grandfather.__init__(self, grandfathername)\n",
    "    class Son(Father):\n",
    "    def __init__(self, sonname, fathername, grandfathername):\n",
    "        self.sonname = sonname\n",
    "    Father.__init__(self, fathername, grandfathername)\n",
    "    def print_name(self):\n",
    "        print('Grandfather name :', self.grandfathername)\n",
    "        print(\"Father name :\", self.fathername)\n",
    "        print(\"Son name :\", self.sonname)\n",
    " 4.Hierarchical Inheritance- When more than one derived class are created from a single base this type of inheritance is called hierarchical inheritance\n",
    " ex-\n",
    " class Parent:\n",
    "    \n",
    "    def func1(self):\n",
    "        print(\"This function is in parent class.\")\n",
    "    class Child1(Parent):\n",
    "    def func2(self):\n",
    "        print(\"This function is in child 1.\")\n",
    "    class Child2(Parent):\n",
    "    def func3(self):\n",
    "        print(\"This function is in child 2.\")\n",
    "\n",
    " "
   ]
  },
  {
   "cell_type": "code",
   "execution_count": null,
   "id": "22481af0-e10a-4bb2-b2f9-192918b77981",
   "metadata": {},
   "outputs": [],
   "source": []
  }
 ],
 "metadata": {
  "kernelspec": {
   "display_name": "Python 3 (ipykernel)",
   "language": "python",
   "name": "python3"
  },
  "language_info": {
   "codemirror_mode": {
    "name": "ipython",
    "version": 3
   },
   "file_extension": ".py",
   "mimetype": "text/x-python",
   "name": "python",
   "nbconvert_exporter": "python",
   "pygments_lexer": "ipython3",
   "version": "3.10.8"
  }
 },
 "nbformat": 4,
 "nbformat_minor": 5
}
